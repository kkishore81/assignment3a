{
 "cells": [
  {
   "cell_type": "code",
   "execution_count": null,
   "id": "2301c511-c573-48fe-a02e-5dd601d33cb7",
   "metadata": {},
   "outputs": [],
   "source": [
    "# Which keyword is used to create a function? Create a function to return a list of odd numbers in the\n",
    "range of 1 to 25"
   ]
  },
  {
   "cell_type": "code",
   "execution_count": null,
   "id": "783b1ca3-202f-401a-b7e4-9a5232a0cec9",
   "metadata": {},
   "outputs": [],
   "source": [
    "#\" def \" is the keyword used to create a function. "
   ]
  },
  {
   "cell_type": "code",
   "execution_count": 9,
   "id": "45f31238-a16c-4fe2-99a6-90586180dc2a",
   "metadata": {},
   "outputs": [],
   "source": [
    "def get_odd_numbers ():\n",
    "    odd_numbers = []\n",
    "    for num in range (1, 26):\n",
    "        if num % 2 != 0 :\n",
    "            odd_number.append (num)\n",
    "        return odd_mumbers"
   ]
  },
  {
   "cell_type": "code",
   "execution_count": 16,
   "id": "6dfece98-2451-4928-8563-87655a6f3c77",
   "metadata": {},
   "outputs": [],
   "source": [
    "def get_odd_numbers():\n",
    "    odd_numbers = []\n",
    "    for num in range(1, 26):\n",
    "        if num % 2 != 0:\n",
    "            odd_numbers.append(num)\n",
    "    return odd_numbers"
   ]
  },
  {
   "cell_type": "code",
   "execution_count": 17,
   "id": "2d8d02b6-2b60-4c65-9c95-a1ce907cf416",
   "metadata": {},
   "outputs": [
    {
     "name": "stdout",
     "output_type": "stream",
     "text": [
      "[1, 3, 5, 7, 9, 11, 13, 15, 17, 19, 21, 23, 25]\n"
     ]
    }
   ],
   "source": [
    "odd_nums = get_odd_numbers()\n",
    "print(odd_nums)"
   ]
  },
  {
   "cell_type": "code",
   "execution_count": null,
   "id": "bcf07ee5-8db2-4ede-9be7-1234ee04b545",
   "metadata": {},
   "outputs": [],
   "source": [
    "# Why *args and **kwargs is used in some functions? Create a function each for *args and **kwargs\n",
    "to demonstrate their use."
   ]
  },
  {
   "cell_type": "code",
   "execution_count": null,
   "id": "5f489717-af26-40d3-90bc-f6a1288cd83d",
   "metadata": {},
   "outputs": [],
   "source": [
    " *args allows a function to accept  number  as a tuple."
   ]
  },
  {
   "cell_type": "code",
   "execution_count": null,
   "id": "ad545567-c3d8-42e6-a5c8-fbfb342a8819",
   "metadata": {},
   "outputs": [],
   "source": [
    "**kwargs allows a function to accept any number of keyword arguments as a dictionary."
   ]
  },
  {
   "cell_type": "code",
   "execution_count": 20,
   "id": "4503d45b-57ca-4470-bc4a-82fbe65f41c3",
   "metadata": {},
   "outputs": [
    {
     "name": "stdout",
     "output_type": "stream",
     "text": [
      "15\n"
     ]
    }
   ],
   "source": [
    "def sum_numbers(*args):\n",
    "    total = 0\n",
    "    for num in args:\n",
    "        total += num\n",
    "    return total\n",
    "\n",
    "result = sum_numbers(1, 2, 3, 4, 5)\n",
    "print(result)\n"
   ]
  },
  {
   "cell_type": "code",
   "execution_count": 21,
   "id": "1fa36c87-9ced-4eca-b6ad-c589799306bf",
   "metadata": {},
   "outputs": [
    {
     "name": "stdout",
     "output_type": "stream",
     "text": [
      "name: John\n",
      "age: 30\n",
      "country: USA\n"
     ]
    }
   ],
   "source": [
    "def display_info(**kwargs):\n",
    "    for key, value in kwargs.items():\n",
    "        print(f\"{key}: {value}\")\n",
    "\n",
    "\n",
    "display_info(name=\"John\", age=30, country=\"USA\")"
   ]
  },
  {
   "cell_type": "code",
   "execution_count": null,
   "id": "4c80edea-e30c-4cde-8f82-efa276695e31",
   "metadata": {},
   "outputs": [],
   "source": [
    "# What is an iterator in python? Name the method used to initialise the iterator object and the method\n",
    "used for iteration. Use these methods to print the first five elements of the given list [2, 4, 6, 8, 10, 12, 14,\n",
    "16, 18, 20]."
   ]
  },
  {
   "cell_type": "code",
   "execution_count": null,
   "id": "722bd9a8-ae3c-40f8-b0a4-0258c655b237",
   "metadata": {},
   "outputs": [],
   "source": [
    "#'''An iterator is an object that allows you to iterate over a sequence of elements, such as a list, tuple, or string. \n",
    "It provides a way to access the elements one by one without the need to know the underlying implementation.'''"
   ]
  },
  {
   "cell_type": "code",
   "execution_count": null,
   "id": "f8ca8cfb-a69f-4c36-ad6f-f869fec81374",
   "metadata": {},
   "outputs": [],
   "source": [
    "For & while  loop is used initialise the iterator object"
   ]
  },
  {
   "cell_type": "code",
   "execution_count": 1,
   "id": "6d14e972-da20-4bc5-9091-5365069b2cf4",
   "metadata": {},
   "outputs": [
    {
     "name": "stdout",
     "output_type": "stream",
     "text": [
      "2\n",
      "4\n",
      "6\n",
      "8\n",
      "10\n"
     ]
    }
   ],
   "source": [
    "my_list = [2, 4, 6, 8, 10, 12, 14, 16, 18, 20]\n",
    "\n",
    "my_iterator = iter(my_list)\n",
    "for _ in range(5):\n",
    "    element = next(my_iterator)\n",
    "    print(element)"
   ]
  },
  {
   "cell_type": "code",
   "execution_count": 3,
   "id": "cccfac5c-5234-4fef-95ac-61e970a234dd",
   "metadata": {},
   "outputs": [
    {
     "data": {
      "text/plain": [
       "' What is a generator function in python? Why yield keyword is used? Give an example of a generator\\nfunction.'"
      ]
     },
     "execution_count": 3,
     "metadata": {},
     "output_type": "execute_result"
    }
   ],
   "source": [
    "''' What is a generator function in python? Why yield keyword is used? Give an example of a generator\n",
    "function.'''"
   ]
  },
  {
   "cell_type": "code",
   "execution_count": 5,
   "id": "d47e204d-bed2-4a31-9e87-e68ce3b02bd3",
   "metadata": {},
   "outputs": [],
   "source": [
    "#A generator function t generates a sequence of values instead of returning a single value.\n",
    "#It uses the yield keyword instead of return to produce a series of values as an iterator.\n",
    "#The yield keyword is used in a generator function to indicate the points at which the function should stop its execution and yield a value. "
   ]
  },
  {
   "cell_type": "code",
   "execution_count": 36,
   "id": "2eca5c9a-dd00-4684-bf8a-11dfe8d11753",
   "metadata": {},
   "outputs": [],
   "source": [
    "def test_fib(n):\n",
    "    a,b = 0,1\n",
    "    for i in range(n):\n",
    "        yield  a\n",
    "        a,b = b, a+b\n",
    "    "
   ]
  },
  {
   "cell_type": "code",
   "execution_count": 38,
   "id": "e43e2df6-f2f7-47fb-844e-5a724975c1b4",
   "metadata": {},
   "outputs": [
    {
     "data": {
      "text/plain": [
       "<generator object test_fib at 0x7f9b9c185d90>"
      ]
     },
     "execution_count": 38,
     "metadata": {},
     "output_type": "execute_result"
    }
   ],
   "source": [
    "test_fib(10)"
   ]
  },
  {
   "cell_type": "code",
   "execution_count": 39,
   "id": "06f4c994-f164-4048-af35-258a8b807cd6",
   "metadata": {},
   "outputs": [
    {
     "name": "stdout",
     "output_type": "stream",
     "text": [
      "0\n",
      "1\n",
      "1\n",
      "2\n",
      "3\n",
      "5\n",
      "8\n",
      "13\n",
      "21\n",
      "34\n"
     ]
    }
   ],
   "source": [
    "for i in test_fib(10):    \n",
    "    print(i)"
   ]
  },
  {
   "cell_type": "code",
   "execution_count": 1,
   "id": "dfc12e9b-1e4a-4ab0-8f95-a384a356bc4c",
   "metadata": {},
   "outputs": [],
   "source": [
    "# create a generator function for prime number less than 1000. use next function to print 1st 20 prime numbers"
   ]
  },
  {
   "cell_type": "code",
   "execution_count": 3,
   "id": "4a97c3a5-9b74-4fe6-88a1-0ef480383d47",
   "metadata": {},
   "outputs": [],
   "source": [
    "def prime_generator():\n",
    "    primes = []\n",
    "    num = 2\n",
    "    while num < 1000:\n",
    "        is_prime = True\n",
    "        for prime in primes:\n",
    "            if num % prime == 0:\n",
    "                is_prime = False\n",
    "                break\n",
    "        if is_prime:\n",
    "            primes.append(num)\n",
    "            yield num\n",
    "        num += 1          \n",
    "        "
   ]
  },
  {
   "cell_type": "code",
   "execution_count": 10,
   "id": "031467ab-0e50-40f3-a827-b3e3e501bfb4",
   "metadata": {},
   "outputs": [
    {
     "name": "stdout",
     "output_type": "stream",
     "text": [
      "2\n",
      "3\n",
      "5\n",
      "7\n",
      "11\n",
      "13\n",
      "17\n",
      "19\n",
      "23\n",
      "29\n",
      "31\n",
      "37\n",
      "41\n",
      "43\n",
      "47\n",
      "53\n",
      "59\n",
      "61\n",
      "67\n",
      "71\n"
     ]
    }
   ],
   "source": [
    " generator = prime_generator()\n",
    "\n",
    "for _ in range(20):\n",
    "    prime = next(generator)\n",
    "    print(prime)"
   ]
  },
  {
   "cell_type": "code",
   "execution_count": null,
   "id": "aac7e537-ef64-4af1-a9b1-6f8b9c73de18",
   "metadata": {},
   "outputs": [],
   "source": [
    "#Write a python program to print the first 10 Fibonacci numbers using a while loop."
   ]
  },
  {
   "cell_type": "code",
   "execution_count": null,
   "id": "66c229e5-930b-43da-af0a-3d13c0629257",
   "metadata": {},
   "outputs": [],
   "source": [
    "def test_fib3():\n",
    "    a,b = 0,1\n",
    "    while True(n):\n",
    "        yield  a\n",
    "        a,b = b, a+b"
   ]
  },
  {
   "cell_type": "code",
   "execution_count": null,
   "id": "d159ebb8-9418-4111-97d1-35e5762fb0fb",
   "metadata": {},
   "outputs": [],
   "source": [
    "fib = test_fib3()"
   ]
  },
  {
   "cell_type": "code",
   "execution_count": 54,
   "id": "d14221c3-53bd-4716-a8e6-8be401f383bf",
   "metadata": {},
   "outputs": [
    {
     "ename": "StopIteration",
     "evalue": "",
     "output_type": "error",
     "traceback": [
      "\u001b[0;31m---------------------------------------------------------------------------\u001b[0m",
      "\u001b[0;31mStopIteration\u001b[0m                             Traceback (most recent call last)",
      "Cell \u001b[0;32mIn[54], line 2\u001b[0m\n\u001b[1;32m      1\u001b[0m \u001b[38;5;28;01mfor\u001b[39;00m i \u001b[38;5;129;01min\u001b[39;00m \u001b[38;5;28mrange\u001b[39m(\u001b[38;5;241m10\u001b[39m):\n\u001b[0;32m----> 2\u001b[0m     \u001b[38;5;28mprint\u001b[39m(\u001b[38;5;28;43mnext\u001b[39;49m\u001b[43m(\u001b[49m\u001b[43mfib\u001b[49m\u001b[43m)\u001b[49m)\n",
      "\u001b[0;31mStopIteration\u001b[0m: "
     ]
    }
   ],
   "source": [
    "for i in range(10):\n",
    "    print(next(fib))"
   ]
  },
  {
   "cell_type": "code",
   "execution_count": 49,
   "id": "7cd4c73c-a613-4ad8-b211-3f234f0097c6",
   "metadata": {},
   "outputs": [],
   "source": [
    "def test_fib2():\n",
    "    a,b = 0,1\n",
    "    while True:\n",
    "        yield a\n",
    "        a,b = b,a+b"
   ]
  },
  {
   "cell_type": "code",
   "execution_count": 56,
   "id": "72a6499b-dfbb-4490-935f-5a425abc9001",
   "metadata": {},
   "outputs": [],
   "source": [
    "fib = test_fib2()"
   ]
  },
  {
   "cell_type": "code",
   "execution_count": 57,
   "id": "8b003d19-08b3-4cda-a3b7-bc8a3a957fea",
   "metadata": {},
   "outputs": [
    {
     "name": "stdout",
     "output_type": "stream",
     "text": [
      "0\n",
      "1\n",
      "1\n",
      "2\n",
      "3\n",
      "5\n",
      "8\n",
      "13\n",
      "21\n",
      "34\n"
     ]
    }
   ],
   "source": [
    "for i in range(10):\n",
    "    print(next(fib))\n"
   ]
  },
  {
   "cell_type": "code",
   "execution_count": null,
   "id": "54f236af-f242-4378-8e5a-066af75fca79",
   "metadata": {},
   "outputs": [],
   "source": [
    "# Write a List Comprehension to iterate through the given string: ‘pwskills’.\n",
    "Expected output: ['p', 'w', 's', 'k', 'i', 'l', 'l', 's']"
   ]
  },
  {
   "cell_type": "code",
   "execution_count": 62,
   "id": "7d417b98-1e67-4ecf-93af-c9a2919fa2cb",
   "metadata": {},
   "outputs": [
    {
     "ename": "SyntaxError",
     "evalue": "incomplete input (891932660.py, line 2)",
     "output_type": "error",
     "traceback": [
      "\u001b[0;36m  Cell \u001b[0;32mIn[62], line 2\u001b[0;36m\u001b[0m\n\u001b[0;31m    list(map(lambda s : s.upper() , s\u001b[0m\n\u001b[0m                                     ^\u001b[0m\n\u001b[0;31mSyntaxError\u001b[0m\u001b[0;31m:\u001b[0m incomplete input\n"
     ]
    }
   ],
   "source": [
    "s = 'pwskills'\n",
    "list(map(lambda s : s.upper() , s"
   ]
  },
  {
   "cell_type": "code",
   "execution_count": 42,
   "id": "51ba50de-8a5d-425d-a177-967bd4d2f9e0",
   "metadata": {},
   "outputs": [
    {
     "name": "stdout",
     "output_type": "stream",
     "text": [
      "['p', 'w', 's', 'k', 'i', 'l', 'l', 's']\n"
     ]
    }
   ],
   "source": [
    "s = 'pwskills'\n",
    "list(map(lambda s : s.upper() , s\n",
    "output = [char for char in string if char in 'pwskills']\n",
    "print(output)"
   ]
  },
  {
   "cell_type": "code",
   "execution_count": null,
   "id": "47b340b5-337b-421a-82a3-7d193abc080d",
   "metadata": {},
   "outputs": [],
   "source": [
    "# Write a python program to check whether a given number is Palindrome or not using a while loop."
   ]
  },
  {
   "cell_type": "code",
   "execution_count": 58,
   "id": "b73a4cf1-9e91-4def-bf0e-be28827085b6",
   "metadata": {},
   "outputs": [
    {
     "name": "stdin",
     "output_type": "stream",
     "text": [
      "Enter a number:  1515\n"
     ]
    },
    {
     "name": "stdout",
     "output_type": "stream",
     "text": [
      "The number is not a palindrome.\n"
     ]
    }
   ],
   "source": [
    "number = int(input(\"Enter a number: \"))\n",
    "\n",
    "original_number = number\n",
    "\n",
    "reverse = 0\n",
    "remainder = 0\n",
    "\n",
    "while number > 0:\n",
    "    remainder = number % 10\n",
    "    reverse = (reverse * 10) + remainder\n",
    "    number = number // 10\n",
    "\n",
    "if original_number == reverse:\n",
    "    print(\"The number is a palindrome.\")\n",
    "else:\n",
    "    print(\"The number is not a palindrome.\")"
   ]
  },
  {
   "cell_type": "code",
   "execution_count": null,
   "id": "3a374f5b-d5c9-4b06-886f-b7341882fbe1",
   "metadata": {},
   "outputs": [],
   "source": [
    "# Write a code to print odd numbers from 1 to 100 using list comprehension."
   ]
  },
  {
   "cell_type": "code",
   "execution_count": 59,
   "id": "931e7ac4-27bb-4c7f-b27f-1eb7864d79b8",
   "metadata": {},
   "outputs": [
    {
     "name": "stdout",
     "output_type": "stream",
     "text": [
      "[1, 2, 3, 4, 5, 6, 7, 8, 9, 10, 11, 12, 13, 14, 15, 16, 17, 18, 19, 20, 21, 22, 23, 24, 25, 26, 27, 28, 29, 30, 31, 32, 33, 34, 35, 36, 37, 38, 39, 40, 41, 42, 43, 44, 45, 46, 47, 48, 49, 50, 51, 52, 53, 54, 55, 56, 57, 58, 59, 60, 61, 62, 63, 64, 65, 66, 67, 68, 69, 70, 71, 72, 73, 74, 75, 76, 77, 78, 79, 80, 81, 82, 83, 84, 85, 86, 87, 88, 89, 90, 91, 92, 93, 94, 95, 96, 97, 98, 99, 100]\n"
     ]
    }
   ],
   "source": [
    "numbers = [num for num in range(1, 101)]\n",
    "print(numbers)"
   ]
  },
  {
   "cell_type": "code",
   "execution_count": 61,
   "id": "fcdd4d70-37d4-4cde-bd07-9df07ee1a217",
   "metadata": {},
   "outputs": [
    {
     "name": "stdout",
     "output_type": "stream",
     "text": [
      "[1, 3, 5, 7, 9, 11, 13, 15, 17, 19, 21, 23, 25, 27, 29, 31, 33, 35, 37, 39, 41, 43, 45, 47, 49, 51, 53, 55, 57, 59, 61, 63, 65, 67, 69, 71, 73, 75, 77, 79, 81, 83, 85, 87, 89, 91, 93, 95, 97, 99]\n"
     ]
    }
   ],
   "source": [
    "odd_numbers = [num for num in range(1, 101) if num % 2 != 0]\n",
    "print(odd_numbers)"
   ]
  }
 ],
 "metadata": {
  "kernelspec": {
   "display_name": "Python 3 (ipykernel)",
   "language": "python",
   "name": "python3"
  },
  "language_info": {
   "codemirror_mode": {
    "name": "ipython",
    "version": 3
   },
   "file_extension": ".py",
   "mimetype": "text/x-python",
   "name": "python",
   "nbconvert_exporter": "python",
   "pygments_lexer": "ipython3",
   "version": "3.10.8"
  }
 },
 "nbformat": 4,
 "nbformat_minor": 5
}
